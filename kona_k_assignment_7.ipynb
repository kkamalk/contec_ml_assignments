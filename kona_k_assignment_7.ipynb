{
  "nbformat": 4,
  "nbformat_minor": 0,
  "metadata": {
    "colab": {
      "provenance": []
    },
    "kernelspec": {
      "name": "python3",
      "display_name": "Python 3"
    },
    "language_info": {
      "name": "python"
    }
  },
  "cells": [
    {
      "cell_type": "code",
      "execution_count": 1,
      "metadata": {
        "id": "ZBdFlukQDGWJ"
      },
      "outputs": [],
      "source": [
        "import tensorflow as tf\n",
        "from tensorflow import keras"
      ]
    },
    {
      "cell_type": "code",
      "source": [
        "# Loading the MNIST digits dataset\n",
        "(x_train, y_train), (x_test, y_test) = keras.datasets.mnist.load_data()"
      ],
      "metadata": {
        "colab": {
          "base_uri": "https://localhost:8080/"
        },
        "id": "X9lVOkKEGE9f",
        "outputId": "b0692451-15fc-413a-d352-3189a5eb29b1"
      },
      "execution_count": 2,
      "outputs": [
        {
          "output_type": "stream",
          "name": "stdout",
          "text": [
            "Downloading data from https://storage.googleapis.com/tensorflow/tf-keras-datasets/mnist.npz\n",
            "11490434/11490434 [==============================] - 0s 0us/step\n"
          ]
        }
      ]
    },
    {
      "cell_type": "code",
      "source": [
        "# Preprocessing  the data\n",
        "x_train = x_train.astype('float32') / 255.0\n",
        "x_test = x_test.astype('float32') / 255.0"
      ],
      "metadata": {
        "id": "Tm2ApK8jGIBP"
      },
      "execution_count": 4,
      "outputs": []
    },
    {
      "cell_type": "code",
      "source": [
        "# Reshaping the data to be 2D (28x28 pixels)\n",
        "x_train = x_train.reshape(-1, 28*28)\n",
        "x_test = x_test.reshape(-1, 28*28)"
      ],
      "metadata": {
        "id": "2_S26r6AGOQ4"
      },
      "execution_count": 5,
      "outputs": []
    },
    {
      "cell_type": "code",
      "source": [
        "# Defining the first model\n",
        "model1 = keras.models.Sequential([\n",
        "    keras.layers.Dense(128, activation='relu', input_shape=(784,)),\n",
        "    keras.layers.Dense(64, activation='relu'),\n",
        "    keras.layers.Dense(10, activation='softmax')])"
      ],
      "metadata": {
        "id": "-bRlNvFkGWZS"
      },
      "execution_count": 7,
      "outputs": []
    },
    {
      "cell_type": "code",
      "source": [
        "# Compiling the model\n",
        "model1.compile(optimizer=keras.optimizers.Adam(learning_rate=0.001),\n",
        "               loss='sparse_categorical_crossentropy',\n",
        "               metrics=['accuracy'])"
      ],
      "metadata": {
        "id": "-KVEoKZnGhuq"
      },
      "execution_count": 9,
      "outputs": []
    },
    {
      "cell_type": "code",
      "source": [
        "# Training the model\n",
        "model1.fit(x_train, y_train, epochs=10, batch_size=32, validation_split=0.1)\n",
        "\n"
      ],
      "metadata": {
        "colab": {
          "base_uri": "https://localhost:8080/"
        },
        "id": "XtOc9GP-Gza6",
        "outputId": "b9dc6c3d-7f79-4432-bf3d-9f1508fa5ac3"
      },
      "execution_count": 10,
      "outputs": [
        {
          "output_type": "stream",
          "name": "stdout",
          "text": [
            "Epoch 1/10\n",
            "1688/1688 [==============================] - 10s 5ms/step - loss: 0.8805 - accuracy: 0.7357 - val_loss: 0.3947 - val_accuracy: 0.8890\n",
            "Epoch 2/10\n",
            "1688/1688 [==============================] - 9s 5ms/step - loss: 0.4100 - accuracy: 0.8806 - val_loss: 0.3037 - val_accuracy: 0.9128\n",
            "Epoch 3/10\n",
            "1688/1688 [==============================] - 7s 4ms/step - loss: 0.3452 - accuracy: 0.8991 - val_loss: 0.2634 - val_accuracy: 0.9233\n",
            "Epoch 4/10\n",
            "1688/1688 [==============================] - 9s 5ms/step - loss: 0.3107 - accuracy: 0.9100 - val_loss: 0.2395 - val_accuracy: 0.9270\n",
            "Epoch 5/10\n",
            "1688/1688 [==============================] - 9s 5ms/step - loss: 0.2829 - accuracy: 0.9171 - val_loss: 0.2172 - val_accuracy: 0.9368\n",
            "Epoch 6/10\n",
            "1688/1688 [==============================] - 9s 5ms/step - loss: 0.2590 - accuracy: 0.9242 - val_loss: 0.2007 - val_accuracy: 0.9402\n",
            "Epoch 7/10\n",
            "1688/1688 [==============================] - 9s 5ms/step - loss: 0.2369 - accuracy: 0.9303 - val_loss: 0.1895 - val_accuracy: 0.9457\n",
            "Epoch 8/10\n",
            "1688/1688 [==============================] - 9s 5ms/step - loss: 0.2174 - accuracy: 0.9366 - val_loss: 0.1841 - val_accuracy: 0.9473\n",
            "Epoch 9/10\n",
            "1688/1688 [==============================] - 7s 4ms/step - loss: 0.2001 - accuracy: 0.9411 - val_loss: 0.1637 - val_accuracy: 0.9555\n",
            "Epoch 10/10\n",
            "1688/1688 [==============================] - 9s 5ms/step - loss: 0.1839 - accuracy: 0.9463 - val_loss: 0.1457 - val_accuracy: 0.9583\n"
          ]
        },
        {
          "output_type": "execute_result",
          "data": {
            "text/plain": [
              "<keras.callbacks.History at 0x7f33b82954c0>"
            ]
          },
          "metadata": {},
          "execution_count": 10
        }
      ]
    },
    {
      "cell_type": "code",
      "source": [
        "# Evaluating the model\n",
        "test_loss, test_acc = model1.evaluate(x_test, y_test)\n",
        "print('Test accuracy:', test_acc)"
      ],
      "metadata": {
        "colab": {
          "base_uri": "https://localhost:8080/"
        },
        "id": "6swO-Y__HWLI",
        "outputId": "a447a1e6-fa76-4389-e0dc-28914f13f979"
      },
      "execution_count": 11,
      "outputs": [
        {
          "output_type": "stream",
          "name": "stdout",
          "text": [
            "313/313 [==============================] - 1s 2ms/step - loss: 0.1754 - accuracy: 0.9483\n",
            "Test accuracy: 0.9483000040054321\n"
          ]
        }
      ]
    },
    {
      "cell_type": "markdown",
      "source": [
        "Summary:\n",
        "\n",
        "\n",
        "For this first model, we have chosen a dense architecture with two hidden layers (128 and 64 neurons, respectively), and a softmax output layer with 10 neurons for the 10 classes of digits. We have also used the Adam optimizer with a learning rate of 0.001, and the sparse categorical crossentropy loss function since our labels are integers. We trained the model for 10 epochs with a batch size of 32 and a validation split of 0.1."
      ],
      "metadata": {
        "id": "dc5U2i6JH3fw"
      }
    },
    {
      "cell_type": "markdown",
      "source": [
        "2nd model:"
      ],
      "metadata": {
        "id": "yh_FDwHAIAMp"
      }
    },
    {
      "cell_type": "code",
      "source": [
        "# Reshaping the data to be 3D (28x28 pixels with 1 channel)\n",
        "x_train = x_train.reshape(-1, 28, 28, 1)\n",
        "x_test = x_test.reshape(-1, 28, 28, 1)\n"
      ],
      "metadata": {
        "id": "261PgeF-H5ZH"
      },
      "execution_count": 12,
      "outputs": []
    },
    {
      "cell_type": "code",
      "source": [
        "# Defining the second model\n",
        "model2 = keras.models.Sequential([\n",
        "    keras.layers.Conv2D(32, (3,3), activation='relu', input_shape=(28,28,1)),\n",
        "    keras.layers.MaxPooling2D((2,2)),\n",
        "    keras.layers.Conv2D(64, (3,3), activation='relu'),\n",
        "    keras.layers.MaxPooling2D((2,2)),\n",
        "    keras.layers.Flatten(),\n",
        "    keras.layers.Dense(10, activation='softmax')\n",
        "])"
      ],
      "metadata": {
        "id": "pEfG5crBIJMM"
      },
      "execution_count": 13,
      "outputs": []
    },
    {
      "cell_type": "code",
      "source": [
        "# Compiling the model\n",
        "model2.compile(optimizer=keras.optimizers.Adam(learning_rate=0.001),\n",
        "               loss='sparse_categorical_crossentropy',\n",
        "               metrics=['accuracy'])"
      ],
      "metadata": {
        "id": "BrjAAVlRIScB"
      },
      "execution_count": 15,
      "outputs": []
    },
    {
      "cell_type": "code",
      "source": [
        "# Train the model\n",
        "model2.fit(x_train, y_train, epochs=10, batch_size=32, validation_split=0.1)\n"
      ],
      "metadata": {
        "colab": {
          "base_uri": "https://localhost:8080/"
        },
        "id": "NoFjZzN5IZbW",
        "outputId": "8b838b12-2df5-46c8-ae96-7cac26e68e09"
      },
      "execution_count": 16,
      "outputs": [
        {
          "output_type": "stream",
          "name": "stdout",
          "text": [
            "Epoch 1/10\n",
            "1688/1688 [==============================] - 62s 36ms/step - loss: 0.7201 - accuracy: 0.7721 - val_loss: 0.2168 - val_accuracy: 0.9418\n",
            "Epoch 2/10\n",
            "1688/1688 [==============================] - 59s 35ms/step - loss: 0.2129 - accuracy: 0.9369 - val_loss: 0.1311 - val_accuracy: 0.9655\n",
            "Epoch 3/10\n",
            "1688/1688 [==============================] - 60s 35ms/step - loss: 0.1403 - accuracy: 0.9582 - val_loss: 0.1012 - val_accuracy: 0.9708\n",
            "Epoch 4/10\n",
            "1688/1688 [==============================] - 58s 34ms/step - loss: 0.1114 - accuracy: 0.9658 - val_loss: 0.0891 - val_accuracy: 0.9742\n",
            "Epoch 5/10\n",
            "1688/1688 [==============================] - 60s 36ms/step - loss: 0.0967 - accuracy: 0.9701 - val_loss: 0.0920 - val_accuracy: 0.9738\n",
            "Epoch 6/10\n",
            "1688/1688 [==============================] - 59s 35ms/step - loss: 0.0877 - accuracy: 0.9723 - val_loss: 0.0728 - val_accuracy: 0.9797\n",
            "Epoch 7/10\n",
            "1688/1688 [==============================] - 62s 36ms/step - loss: 0.0794 - accuracy: 0.9750 - val_loss: 0.0735 - val_accuracy: 0.9792\n",
            "Epoch 8/10\n",
            "1688/1688 [==============================] - 60s 35ms/step - loss: 0.0740 - accuracy: 0.9771 - val_loss: 0.0744 - val_accuracy: 0.9777\n",
            "Epoch 9/10\n",
            "1688/1688 [==============================] - 61s 36ms/step - loss: 0.0693 - accuracy: 0.9786 - val_loss: 0.0655 - val_accuracy: 0.9828\n",
            "Epoch 10/10\n",
            "1688/1688 [==============================] - 58s 35ms/step - loss: 0.0655 - accuracy: 0.9794 - val_loss: 0.0716 - val_accuracy: 0.9800\n"
          ]
        },
        {
          "output_type": "execute_result",
          "data": {
            "text/plain": [
              "<keras.callbacks.History at 0x7f33b0fc3e20>"
            ]
          },
          "metadata": {},
          "execution_count": 16
        }
      ]
    },
    {
      "cell_type": "code",
      "source": [
        "# Evaluating the model\n",
        "test_loss, test_acc = model2.evaluate(x_test, y_test)\n",
        "print('Test accuracy:', test_acc)"
      ],
      "metadata": {
        "colab": {
          "base_uri": "https://localhost:8080/"
        },
        "id": "RSW85gEmIbgL",
        "outputId": "be46107f-40a5-481a-b010-431b309a2ec0"
      },
      "execution_count": 17,
      "outputs": [
        {
          "output_type": "stream",
          "name": "stdout",
          "text": [
            "313/313 [==============================] - 4s 13ms/step - loss: 0.0684 - accuracy: 0.9785\n",
            "Test accuracy: 0.9785000085830688\n"
          ]
        }
      ]
    },
    {
      "cell_type": "markdown",
      "source": [
        "Conclusion:\n",
        "\n",
        "In this task, we used the MNIST digits dataset to train two different ANNs for digit classification. We experimented with different network structures and hyperparameters to find the best possible models for this task.\n",
        "\n",
        "For the first model, we used a simple structure with one hidden layer of 64 neurons, followed by a softmax output layer. We used the 'adam' optimizer and a learning rate of 0.001. After training, this model achieved a test accuracy of 0.9483.\n",
        "\n",
        "For the second model, we used a more complex structure with two hidden layers of 128 neurons each, followed by a softmax output layer. We used the 'adam' optimizer and a learning rate of 0.0001. After training, this model achieved a higher test accuracy of 0.9785.\n",
        "\n",
        "In summary, we found that a deeper network with more neurons and a smaller learning rate performed better for this task. However, the simpler network structure also achieved a respectable accuracy. Overall, both models performed well on the digit classification task, with the second model achieving a slightly higher accuracy."
      ],
      "metadata": {
        "id": "UsH7OePNLKPm"
      }
    },
    {
      "cell_type": "code",
      "source": [],
      "metadata": {
        "id": "bqj17hyXLTbq"
      },
      "execution_count": null,
      "outputs": []
    }
  ]
}